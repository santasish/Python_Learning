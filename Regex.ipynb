{
 "cells": [
  {
   "cell_type": "code",
   "execution_count": null,
   "id": "95232994",
   "metadata": {},
   "outputs": [],
   "source": []
  },
  {
   "cell_type": "markdown",
   "id": "80b6e507",
   "metadata": {},
   "source": [
    "Match object is the output after computing the re module. It no match is found it returns NoneType.\n",
    "\n",
    "Match object contains 3 methods:-\n",
    "    \n",
    "    1. .group() returns the matching group of characters from the string.\n",
    "    \n",
    "    \n",
    "    2. .span() gives the starting indexes and the last positional index where the match is found. The starting index is inclusive but the ending index is exclusive like in string indexing.\n",
    "    \n",
    "    \n",
    "    3. .string() returns the entire string where the match is found."
   ]
  },
  {
   "cell_type": "code",
   "execution_count": null,
   "id": "eb8c80f6",
   "metadata": {},
   "outputs": [],
   "source": []
  },
  {
   "cell_type": "markdown",
   "id": "2ba4b893",
   "metadata": {},
   "source": [
    "#### Importing the RegEx Module"
   ]
  },
  {
   "cell_type": "code",
   "execution_count": 1,
   "id": "5cf1d6a0",
   "metadata": {},
   "outputs": [],
   "source": [
    "import re"
   ]
  },
  {
   "cell_type": "code",
   "execution_count": 2,
   "id": "05a03538",
   "metadata": {},
   "outputs": [],
   "source": [
    "text=\"Hi this is a text to understand regex module\""
   ]
  },
  {
   "cell_type": "markdown",
   "id": "f260d58a",
   "metadata": {},
   "source": [
    "Using the search function in regex module..."
   ]
  },
  {
   "cell_type": "code",
   "execution_count": 3,
   "id": "19cc6495",
   "metadata": {},
   "outputs": [
    {
     "data": {
      "text/plain": [
       "<re.Match object; span=(5, 7), match='is'>"
      ]
     },
     "execution_count": 3,
     "metadata": {},
     "output_type": "execute_result"
    }
   ],
   "source": [
    "re.search('is',text)"
   ]
  },
  {
   "cell_type": "markdown",
   "id": "f70083f1",
   "metadata": {},
   "source": [
    "This returns the first instance where the match is found.'is' is found in the word 'this' at 5th and 6th index position."
   ]
  },
  {
   "cell_type": "code",
   "execution_count": 4,
   "id": "5e441856",
   "metadata": {},
   "outputs": [
    {
     "data": {
      "text/plain": [
       "<re.Match object; span=(1, 2), match='i'>"
      ]
     },
     "execution_count": 4,
     "metadata": {},
     "output_type": "execute_result"
    }
   ],
   "source": [
    "re.search('i',text)"
   ]
  },
  {
   "cell_type": "markdown",
   "id": "ac30b1e7",
   "metadata": {},
   "source": [
    "#### Different match methods used on the  match objects"
   ]
  },
  {
   "cell_type": "code",
   "execution_count": 5,
   "id": "3e299951",
   "metadata": {},
   "outputs": [],
   "source": [
    "a = re.search('text',text)"
   ]
  },
  {
   "cell_type": "code",
   "execution_count": 6,
   "id": "7cff1d28",
   "metadata": {},
   "outputs": [
    {
     "data": {
      "text/plain": [
       "(13, 17)"
      ]
     },
     "execution_count": 6,
     "metadata": {},
     "output_type": "execute_result"
    }
   ],
   "source": [
    "a.span()                                                 # .span()"
   ]
  },
  {
   "cell_type": "markdown",
   "id": "c0dcfe4b",
   "metadata": {},
   "source": [
    ".span() gives the starting indexes and the last positional index where the match is found.\n",
    "\n",
    "The starting index is inclusive but the ending index is exclusive like in string indexing."
   ]
  },
  {
   "cell_type": "code",
   "execution_count": 8,
   "id": "5ccfba2d",
   "metadata": {
    "scrolled": true
   },
   "outputs": [
    {
     "data": {
      "text/plain": [
       "'Hi this is a text to understand regex module'"
      ]
     },
     "execution_count": 8,
     "metadata": {},
     "output_type": "execute_result"
    }
   ],
   "source": [
    "a.string                                                 # .string"
   ]
  },
  {
   "cell_type": "markdown",
   "id": "06f93c26",
   "metadata": {},
   "source": [
    ".string returns the entire string where the match is found."
   ]
  },
  {
   "cell_type": "code",
   "execution_count": 10,
   "id": "d0c6ae3f",
   "metadata": {},
   "outputs": [
    {
     "data": {
      "text/plain": [
       "13"
      ]
     },
     "execution_count": 10,
     "metadata": {},
     "output_type": "execute_result"
    }
   ],
   "source": [
    "a.start()                                                # .start()"
   ]
  },
  {
   "cell_type": "markdown",
   "id": "8e87a695",
   "metadata": {},
   "source": [
    ".start gives the starting index."
   ]
  },
  {
   "cell_type": "code",
   "execution_count": 12,
   "id": "5751c229",
   "metadata": {},
   "outputs": [
    {
     "data": {
      "text/plain": [
       "'text'"
      ]
     },
     "execution_count": 12,
     "metadata": {},
     "output_type": "execute_result"
    }
   ],
   "source": [
    "a.group()                                                 # .group()"
   ]
  },
  {
   "cell_type": "code",
   "execution_count": 13,
   "id": "2f587219",
   "metadata": {},
   "outputs": [],
   "source": [
    "b = re.search('xt',text)"
   ]
  },
  {
   "cell_type": "code",
   "execution_count": 14,
   "id": "968b6834",
   "metadata": {},
   "outputs": [
    {
     "data": {
      "text/plain": [
       "'xt'"
      ]
     },
     "execution_count": 14,
     "metadata": {},
     "output_type": "execute_result"
    }
   ],
   "source": [
    "b.group()"
   ]
  },
  {
   "cell_type": "markdown",
   "id": "60262eb1",
   "metadata": {},
   "source": [
    ".group() returns the matching group of characters from the string."
   ]
  },
  {
   "cell_type": "markdown",
   "id": "852d0fa6",
   "metadata": {},
   "source": [
    "#### Regex Functions"
   ]
  },
  {
   "cell_type": "markdown",
   "id": "a83639f0",
   "metadata": {},
   "source": [
    "These are the functions present in the re module which we can use to generate the match objects."
   ]
  },
  {
   "cell_type": "markdown",
   "id": "73f8822a",
   "metadata": {},
   "source": [
    "re.findall() --> \tReturns a list containing all matches\n",
    "\n",
    "re.search() --> returns the match object's index positions and span\n",
    "\n",
    "re.split() --> Returns a list where the string has been split at each match\n",
    "\n",
    "re.sub() --> returns the text of choice by replacing the matches"
   ]
  },
  {
   "cell_type": "code",
   "execution_count": 17,
   "id": "99a4848b",
   "metadata": {},
   "outputs": [
    {
     "name": "stdout",
     "output_type": "stream",
     "text": [
      "Hi this is a text to understand regex module\n"
     ]
    }
   ],
   "source": [
    "print(text)"
   ]
  },
  {
   "cell_type": "markdown",
   "id": "30f8e653",
   "metadata": {},
   "source": [
    ".findall()"
   ]
  },
  {
   "cell_type": "code",
   "execution_count": 19,
   "id": "255e6e2b",
   "metadata": {},
   "outputs": [
    {
     "data": {
      "text/plain": [
       "['xt']"
      ]
     },
     "execution_count": 19,
     "metadata": {},
     "output_type": "execute_result"
    }
   ],
   "source": [
    "re.findall('xt',text)"
   ]
  },
  {
   "cell_type": "markdown",
   "id": "f7c06d0b",
   "metadata": {},
   "source": [
    "Returns all the matches in a list."
   ]
  },
  {
   "cell_type": "code",
   "execution_count": 20,
   "id": "0200213a",
   "metadata": {},
   "outputs": [
    {
     "data": {
      "text/plain": [
       "['regex']"
      ]
     },
     "execution_count": 20,
     "metadata": {},
     "output_type": "execute_result"
    }
   ],
   "source": [
    "re.findall('regex',text)"
   ]
  },
  {
   "cell_type": "markdown",
   "id": "52c58a32",
   "metadata": {},
   "source": [
    ".split()"
   ]
  },
  {
   "cell_type": "code",
   "execution_count": 22,
   "id": "d615891c",
   "metadata": {},
   "outputs": [
    {
     "name": "stdout",
     "output_type": "stream",
     "text": [
      "['Hi th', ' ', ' a text to understand regex module']\n"
     ]
    }
   ],
   "source": [
    "a= re.split('is',text)\n",
    "print(a)"
   ]
  },
  {
   "cell_type": "markdown",
   "id": "a2cb3f25",
   "metadata": {},
   "source": [
    "splits all the matching characters..."
   ]
  },
  {
   "cell_type": "code",
   "execution_count": 25,
   "id": "afe10f33",
   "metadata": {},
   "outputs": [
    {
     "name": "stdout",
     "output_type": "stream",
     "text": [
      "['Hi this is a text to understand ', ' module']\n"
     ]
    }
   ],
   "source": [
    "b= re.split('regex',text)\n",
    "print(b)"
   ]
  },
  {
   "cell_type": "markdown",
   "id": "61009b17",
   "metadata": {},
   "source": [
    ".sub()"
   ]
  },
  {
   "cell_type": "code",
   "execution_count": 27,
   "id": "77e3bbd0",
   "metadata": {},
   "outputs": [
    {
     "data": {
      "text/plain": [
       "'Hi thIS IS a text to understand regex module'"
      ]
     },
     "execution_count": 27,
     "metadata": {},
     "output_type": "execute_result"
    }
   ],
   "source": [
    "re.sub('is','IS',text)"
   ]
  },
  {
   "cell_type": "markdown",
   "id": "93dd349f",
   "metadata": {},
   "source": [
    "Replaces the pattern with the mentioned replacement pattern."
   ]
  },
  {
   "cell_type": "code",
   "execution_count": 28,
   "id": "9d789012",
   "metadata": {},
   "outputs": [
    {
     "data": {
      "text/plain": [
       "'Hi this is a text to understand RegEx module'"
      ]
     },
     "execution_count": 28,
     "metadata": {},
     "output_type": "execute_result"
    }
   ],
   "source": [
    "re.sub('regex','RegEx',text)"
   ]
  },
  {
   "cell_type": "markdown",
   "id": "454c4ab5",
   "metadata": {},
   "source": [
    ".search()"
   ]
  },
  {
   "cell_type": "code",
   "execution_count": 31,
   "id": "bf70b029",
   "metadata": {},
   "outputs": [
    {
     "name": "stdout",
     "output_type": "stream",
     "text": [
      "<re.Match object; span=(32, 34), match='re'>\n"
     ]
    }
   ],
   "source": [
    "c = re.search('re',text)\n",
    "print(c)"
   ]
  },
  {
   "cell_type": "markdown",
   "id": "5e2da444",
   "metadata": {},
   "source": [
    "Searches and returns the index position of the matching pattern."
   ]
  }
 ],
 "metadata": {
  "kernelspec": {
   "display_name": "Python 3 (ipykernel)",
   "language": "python",
   "name": "python3"
  },
  "language_info": {
   "codemirror_mode": {
    "name": "ipython",
    "version": 3
   },
   "file_extension": ".py",
   "mimetype": "text/x-python",
   "name": "python",
   "nbconvert_exporter": "python",
   "pygments_lexer": "ipython3",
   "version": "3.9.12"
  }
 },
 "nbformat": 4,
 "nbformat_minor": 5
}
